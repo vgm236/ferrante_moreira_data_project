{
 "cells": [
  {
   "cell_type": "code",
   "execution_count": null,
   "metadata": {},
   "outputs": [],
   "source": []
  },
  {
   "cell_type": "markdown",
   "metadata": {},
   "source": [
    "# Labor Force Participation and Unemployment Rates In Times Of COVID-19 \n",
    "                                    \n",
    "By : Alex Ferrante & Vinicius Moreira"
   ]
  },
  {
   "cell_type": "markdown",
   "metadata": {},
   "source": [
    "### 1. Introduction:\n",
    "\n",
    "Within the United States, the COVID-19 pandemic created economic dismay and forced millions of individuals out of the labor force. Given that the virus was not restricted by geography, all regions of the U.S felt the economic instability. Throughout the pandemic, states revealed their preference for risk by either implementing more conservative mandates, or contrary, not implanting mandates at all. With the darkest days of COVID hopefully behind us, it is of great interest to understand how the implementation and extirpation of stimulus programs affected states economic recovery. \n",
    "\n",
    "In an effort to further investigate the severity in which COVID effected labor force participation, our project will first compare labor force participation rates at the regional and state-level during periods denoted as pre-COVID, intra-COVID, and post-COVID. By breaking the study into these three distinct time periods, it will be possible to interpret the direct effects COVID had on labor force participation. Next, we will test to detect if the announcement and expiration of Pandemic Unemployment Assistance (PUA) transfers from the Federal Government had an effect on labor force participation, and whether the date states made the annoncement had any significance. "
   ]
  },
  {
   "cell_type": "markdown",
   "metadata": {},
   "source": [
    "### 2. Pulling and Staging the Data\n",
    "\n",
    "First, let's import the necessary packages to download the data, work with it, create plots, and run our analyses:"
   ]
  },
  {
   "cell_type": "code",
   "execution_count": 1,
   "metadata": {},
   "outputs": [
    {
     "name": "stderr",
     "output_type": "stream",
     "text": [
      "PROJ: proj_create_from_database: Cannot find proj.db\n"
     ]
    }
   ],
   "source": [
    "# FOR IMPORTING DATA\n",
    "import requests\n",
    "import json\n",
    "import csv\n",
    "import datetime\n",
    "\n",
    "# FOR API\n",
    "from dotenv import load_dotenv\n",
    "import os\n",
    "import pandas as pd\n",
    "import numpy as np\n",
    "from typing import List, Union, Optional\n",
    "\n",
    "# FOR CHARTS\n",
    "import geopandas as gp\n",
    "import matplotlib.pyplot as plt\n",
    "import matplotlib.colors as mplc\n",
    "import matplotlib.patches as patches\n",
    "import seaborn as sns\n",
    "%matplotlib inline"
   ]
  },
  {
   "cell_type": "markdown",
   "metadata": {},
   "source": [
    "### 2.1 Pulling Data From Bureau of Labor Statistics (BLS)\n",
    "\n",
    "Lets first set our API Key to be used for BLS, which is saved on a separate .txt file for security purposes"
   ]
  },
  {
   "cell_type": "code",
   "execution_count": 2,
   "metadata": {},
   "outputs": [],
   "source": [
    "txt_file = open(\"BLS_API_KEY.txt\")\n",
    "apikey = txt_file.read()"
   ]
  },
  {
   "cell_type": "markdown",
   "metadata": {},
   "source": [
    "Next, using the knowledge learned in class, we copy and adapt a function to download data from the BLS API:"
   ]
  },
  {
   "cell_type": "code",
   "execution_count": 3,
   "metadata": {},
   "outputs": [],
   "source": [
    "def request_for_series(\n",
    "        series_ids: List[str], \n",
    "        startyear: Union[int,str], \n",
    "        endyear: Union[int,str],\n",
    "        apikey:Optional[str]=None,\n",
    "    ):\n",
    "    \"\"\"\n",
    "    Request data for all ``series_ids`` between ``startyear`` and ``endyear``\n",
    "    \n",
    "    Parameters\n",
    "    ----------\n",
    "    series_ids: List[str]\n",
    "        A list of all BLS series IDs for which to request data\n",
    "    \n",
    "    startyear, endyear: Union[int,str]\n",
    "        Starting and ending years for period of data. All intervals between\n",
    "        these two years (inclusive) will be reported\n",
    "    \n",
    "    apikey: Optional[str]\n",
    "        A registration or API key to enable more extensive use of the\n",
    "        api and more detailed results\n",
    "    \n",
    "    Returns\n",
    "    -------\n",
    "    responses: List[requests.Response]\n",
    "        A list of `Response` objects from the requests library\n",
    "    \n",
    "    Notes\n",
    "    -----\n",
    "    The BLS API only allows 25 series to be requested in a single call to the API\n",
    "    This function allows an arbitrary number of series. The function first checks how \n",
    "    many series_ids are requested, and then makes two recursive calls to this function:\n",
    "    \n",
    "    (1) the first 25 series IDs are fetched and \n",
    "    (2) the rest of the series ids. \n",
    "    \n",
    "    If the second request contains more than 25 series, another split is made and a pair of \n",
    "    recursive function calls are issued.\n",
    "    \n",
    "    Also note that the response objects from ``requests`` are not processed or validated\n",
    "    in any way -- this is up to the caller of this routine.\n",
    "    \n",
    "    Finally, if an apikey is given, then a catalog of series metadata will be requested\n",
    "    and returned from this function. This is necessary for getting the metadata DataFrame\n",
    "    from the functions ``make_dfs_from_series``, ``unpack_response``, and \n",
    "    ``unpack_all_responses`` functions below.\n",
    "    \"\"\"\n",
    "    n_series = len(series_ids)\n",
    "    if n_series > 25:  #for more than 25, you work on this\n",
    "        parts = []\n",
    "        # make common keyword arguments so we don't have to type twice below\n",
    "        kw = dict(endyear=endyear, startyear=startyear, apikey=apikey)\n",
    "        parts.extend(request_for_series(series_ids[:25], **kw))\n",
    "        parts.extend(request_for_series(series_ids[25:], **kw))\n",
    "        return parts\n",
    "    else:\n",
    "        headers = {'Content-type': 'application/json'}\n",
    "        params = {\n",
    "            \"seriesid\": series_ids, \n",
    "            \"startyear\":startyear, \n",
    "            \"endyear\": endyear,\n",
    "        }\n",
    "        if apikey is not None:\n",
    "            params[\"catalog\"] = True\n",
    "            params[\"registrationkey\"] = apikey\n",
    "        \n",
    "        # convert params dictionary to json string\n",
    "        data = json.dumps(params)\n",
    "        p = requests.post('https://api.bls.gov/publicAPI/v2/timeseries/data/', data=data, headers=headers)\n",
    "        return [p]"
   ]
  },
  {
   "cell_type": "markdown",
   "metadata": {},
   "source": [
    "The function below is used to validate the search through the website (i.e. to see if it works):"
   ]
  },
  {
   "cell_type": "code",
   "execution_count": 4,
   "metadata": {},
   "outputs": [],
   "source": [
    "def check_response(res: requests.Response):\n",
    "    \"\"\"\n",
    "    Check a response from the BLS API for success\n",
    "    \n",
    "    Parameters\n",
    "    ----------\n",
    "    res: requests.Response\n",
    "        The requests object returned from iteracting with BLS API\n",
    "        \n",
    "    Notes\n",
    "    -----\n",
    "    Right now we just check for success at the http protocol level\n",
    "    and don't do any checking specific to the BLS api\n",
    "    \"\"\"\n",
    "    code = res.status_code\n",
    "    if code > 299:\n",
    "        raise ValueError(f\"Response error with code {code}\")"
   ]
  },
  {
   "cell_type": "markdown",
   "metadata": {},
   "source": [
    "This function is to transfer the data into dataframes:"
   ]
  },
  {
   "cell_type": "code",
   "execution_count": 5,
   "metadata": {},
   "outputs": [],
   "source": [
    "def make_dfs_from_series(series_results):\n",
    "    \"\"\"\n",
    "    Unpack a series response object into data and metadata pandas objects\n",
    "    \n",
    "    Parameters\n",
    "    ----------\n",
    "    series_results: dict\n",
    "        A dictionary returned from the `timeseries/data` endpoint of the\n",
    "        BLS api. An example object for this parameter would be found at\n",
    "        ``res.json()[\"Results\"][\"series\"][0]`` where ``res`` is the \n",
    "        ``requests.Response`` obtained from interacting with the API endpoint.\n",
    "    \n",
    "    Returns\n",
    "    -------\n",
    "    data: pd.DataFrame\n",
    "        A pandas DataFrame containing the actual observations of the data series\n",
    "    \n",
    "    metadata: Optional[pd.Series]\n",
    "        If the ``\"catgalog\"`` key exists in ``series_results``, then ``metadata``\n",
    "        is a pandas Series containing the catalog information. If ``\"catalog\"``\n",
    "        is found, then this is None    \n",
    "    \"\"\"\n",
    "    #extract series ID and store as a variable\n",
    "    series_id = series_results[\"seriesID\"]\n",
    "    \n",
    "    #next, we create a panda dataframe, reading a list of dict\n",
    "    #we attach ID as an additional column\n",
    "    data = pd.DataFrame(series_results[\"data\"]).assign(series_id=series_id)\n",
    "    \n",
    "    #if catalog was attached, we create a series\n",
    "    #if not, we don't\n",
    "    if \"catalog\" in series_results:\n",
    "        metadata = pd.Series(series_results[\"catalog\"])\n",
    "    else:\n",
    "        metadata = None\n",
    "    \n",
    "    return data, metadata"
   ]
  },
  {
   "cell_type": "markdown",
   "metadata": {},
   "source": [
    "These two functions will unpack the data:"
   ]
  },
  {
   "cell_type": "code",
   "execution_count": 6,
   "metadata": {},
   "outputs": [],
   "source": [
    "def unpack_response(res: requests.Response):\n",
    "    \"\"\"\n",
    "    Unpack the response for requesting one or more timeseries \n",
    "    from the BLS api\n",
    "    \n",
    "    Parameters\n",
    "    ----------\n",
    "    res: requests.Response\n",
    "        The object returned from interacting with the ``timeseries/data``\n",
    "        BLS API endpoint via the reuqests library\n",
    "    \n",
    "    Returns\n",
    "    -------\n",
    "    datasets: List[Tuple[pd.DataFrame, pd.Series]]\n",
    "        For each BLS series contained in ``res``, a tuple with the \n",
    "        timeseries observations and series metadata will be returned.\n",
    "        The observations are a pandas DataFrame and the metadata is a\n",
    "        pandas Series. These pairs of (data, metadata) are returned\n",
    "        in a list\n",
    "    \n",
    "    See Also\n",
    "    --------\n",
    "    See ``make_dfs_from_series`` for more information on content\n",
    "    of output.\n",
    "    \"\"\"\n",
    "    #compute the json form of our response\n",
    "    js = res.json()\n",
    "    #now we map the results and series as above when we created data and meta\n",
    "    \n",
    "    return list(map(make_dfs_from_series, js[\"Results\"][\"series\"]))\n",
    "\n",
    "\n",
    "def unpack_all_responses(all_res: List[requests.Response]):\n",
    "    \"\"\"\n",
    "    Given a list of responses from the BLS API, extract and \n",
    "    return all data and metadata\n",
    "    \n",
    "    Parameters\n",
    "    ----------\n",
    "    all_res: List[requests.Response])\n",
    "        Each item in this list is the result of using ``requests`` to \n",
    "        fetch data from ``timeseries/data`` endpoint of the BLS API.\n",
    "        \n",
    "    Returns\n",
    "    -------\n",
    "    data: pd.DataFrame\n",
    "        A pandas DataFrame containing all timeseries observations included\n",
    "        in any of the responses in ``all_res``\n",
    "    \n",
    "    metadata: pd.DataFrame\n",
    "        Detailed metadata about each series, if such metadata exists in the\n",
    "        response objects\n",
    "    \n",
    "    See Also\n",
    "    --------\n",
    "    See ``unpack_response`` and ``make_dfs_from_series`` functions\n",
    "        \n",
    "    \"\"\"\n",
    "    #make unpacked an empty list\n",
    "    unpacked = []\n",
    "    \n",
    "    #then use a for function to unpack all of them (list)\n",
    "    for res in all_res:\n",
    "        unpacked.extend(unpack_response(res))\n",
    "    \n",
    "    data_dfs, metadata_series = list(zip(*unpacked))\n",
    "    \n",
    "    #stack all data one on the top of the other\n",
    "    data = pd.concat(data_dfs, ignore_index=True)\n",
    "    \n",
    "    #add the metadata and stack them as columns\n",
    "    metadata = pd.concat([x for x in metadata_series if x is not None], axis=1).T\n",
    "    \n",
    "    return data, metadata"
   ]
  },
  {
   "cell_type": "markdown",
   "metadata": {},
   "source": [
    "Now, let's find all the series of interest.\n",
    "\n",
    "If it ends with:\n",
    "\n",
    "3. Seasonally adjustment unemployment rate. \n",
    "4. Seasonally adjusted unemployment level\n",
    "5. Seasonally adjusted employment level\n",
    "6. Seasonally adjusted labor force level\n",
    "7. Seasonally adjusted employment-population ratio\n",
    "8. Seasonally adjusted labor force participation ratio\n",
    "\n",
    "We will use only 3 and 8 in our analysis. The first two numbers refer to the state from which the data is extracted.\n",
    "\n",
    "Source: https://www.bls.gov/lau/"
   ]
  },
  {
   "cell_type": "code",
   "execution_count": 7,
   "metadata": {},
   "outputs": [],
   "source": [
    "series_ids = [\n",
    "    \"LASST010000000000003\", \n",
    "    \"LASST010000000000008\", \n",
    "    \"LASST020000000000003\", \n",
    "    \"LASST020000000000008\", \n",
    "    \"LASST030000000000003\",\n",
    "    \"LASST030000000000008\", \n",
    "    \"LASST040000000000003\",\n",
    "    \"LASST040000000000008\", \n",
    "    \"LASST050000000000003\", \n",
    "    \"LASST050000000000008\", \n",
    "    \"LASST060000000000003\", \n",
    "    \"LASST060000000000008\", \n",
    "    \"LASST070000000000003\", \n",
    "    \"LASST070000000000008\", \n",
    "    \"LASST080000000000003\", \n",
    "    \"LASST080000000000008\", \n",
    "    \"LASST090000000000003\",\n",
    "    \"LASST090000000000008\", \n",
    "    \"LASST100000000000003\",\n",
    "    \"LASST100000000000008\", \n",
    "    \"LASST110000000000003\", \n",
    "    \"LASST110000000000008\", \n",
    "    \"LASST120000000000003\", \n",
    "    \"LASST120000000000008\", \n",
    "    \"LASST130000000000003\", \n",
    "    \"LASST130000000000008\", \n",
    "    \"LASST140000000000003\", \n",
    "    \"LASST140000000000008\", \n",
    "    \"LASST150000000000003\", \n",
    "    \"LASST150000000000008\", \n",
    "    \"LASST160000000000003\", \n",
    "    \"LASST160000000000008\", \n",
    "    \"LASST170000000000003\", \n",
    "    \"LASST170000000000008\", \n",
    "    \"LASST180000000000003\", \n",
    "    \"LASST180000000000008\", \n",
    "    \"LASST190000000000003\", \n",
    "    \"LASST190000000000008\",\n",
    "    \"LASST200000000000003\", \n",
    "    \"LASST200000000000008\", \n",
    "    \"LASST210000000000003\", \n",
    "    \"LASST210000000000008\", \n",
    "    \"LASST220000000000003\", \n",
    "    \"LASST220000000000008\", \n",
    "    \"LASST230000000000003\", \n",
    "    \"LASST230000000000008\", \n",
    "    \"LASST240000000000003\", \n",
    "    \"LASST240000000000008\", \n",
    "    \"LASST250000000000003\", \n",
    "    \"LASST250000000000008\", \n",
    "    \"LASST260000000000003\", \n",
    "    \"LASST260000000000008\", \n",
    "    \"LASST270000000000003\", \n",
    "    \"LASST270000000000008\", \n",
    "    \"LASST280000000000003\", \n",
    "    \"LASST280000000000008\", \n",
    "    \"LASST290000000000003\", \n",
    "    \"LASST290000000000008\", \n",
    "    \"LASST300000000000003\", \n",
    "    \"LASST300000000000008\", \n",
    "    \"LASST310000000000003\",\n",
    "    \"LASST310000000000008\", \n",
    "    \"LASST320000000000003\", \n",
    "    \"LASST320000000000008\", \n",
    "    \"LASST330000000000003\", \n",
    "    \"LASST330000000000008\",\n",
    "    \"LASST340000000000003\", \n",
    "    \"LASST340000000000008\", \n",
    "    \"LASST350000000000003\",\n",
    "    \"LASST350000000000008\",  \n",
    "    \"LASST360000000000003\", \n",
    "    \"LASST360000000000008\", \n",
    "    \"LASST370000000000003\", \n",
    "    \"LASST380000000000008\", \n",
    "    \"LASST370000000000003\", \n",
    "    \"LASST380000000000008\", \n",
    "    \"LASST370000000000003\", \n",
    "    \"LASST380000000000008\", \n",
    "    \"LASST390000000000003\", \n",
    "    \"LASST390000000000008\",    \n",
    "    \"LASST400000000000003\", \n",
    "    \"LASST400000000000008\", \n",
    "    \"LASST410000000000003\", \n",
    "    \"LASST410000000000008\", \n",
    "    \"LASST420000000000003\", \n",
    "    \"LASST420000000000008\", \n",
    "    \"LASST430000000000003\", \n",
    "    \"LASST430000000000008\", \n",
    "    \"LASST440000000000003\", \n",
    "    \"LASST440000000000008\", \n",
    "    \"LASST450000000000003\", \n",
    "    \"LASST450000000000008\", \n",
    "    \"LASST460000000000003\", \n",
    "    \"LASST460000000000008\", \n",
    "    \"LASST470000000000003\", \n",
    "    \"LASST470000000000008\", \n",
    "    \"LASST480000000000003\", \n",
    "    \"LASST480000000000008\", \n",
    "    \"LASST490000000000003\", \n",
    "    \"LASST490000000000008\", \n",
    "    \"LASST500000000000003\", \n",
    "    \"LASST500000000000008\",\n",
    "    \"LASST510000000000003\", \n",
    "    \"LASST510000000000008\",\n",
    "    \"LASST520000000000003\",\n",
    "    \"LASST520000000000008\",\n",
    "    \"LASST530000000000003\", \n",
    "    \"LASST530000000000008\", \n",
    "    \"LASST540000000000003\", \n",
    "    \"LASST540000000000008\",     \n",
    "    \"LASST550000000000003\", \n",
    "    \"LASST550000000000008\", \n",
    "    \"LASST560000000000003\", \n",
    "    \"LASST560000000000008\",\n",
    "]\n",
    "\n",
    "# make requests, get responses\n",
    "responses1 = request_for_series(series_ids, \"1976\", \"1995\", apikey=apikey)\n",
    "\n",
    "# validate the responses\n",
    "[check_response(r) for r in responses1]\n",
    "\n",
    "# extract data and metadata from responses\n",
    "df1, metadata1 = unpack_all_responses(responses1)\n",
    "\n",
    "# pull data for date range: 1996 - 2015\n",
    "responses2 = request_for_series(series_ids, \"1996\", \"2015\", apikey=apikey)\n",
    "df2, metadata2 = unpack_all_responses(responses2)\n",
    "\n",
    "# pull data for date range: 2016 - 2021\n",
    "responses3 = request_for_series(series_ids, \"2016\", \"2021\", apikey=apikey)\n",
    "df3, metadata3 = unpack_all_responses(responses3)"
   ]
  },
  {
   "cell_type": "markdown",
   "metadata": {},
   "source": [
    "### 2.2 Incorporating Data Related to State PUA\n",
    "\n",
    "Since one of the objectives of this project is to understand whether the announcement date and exipiration date of PUA payments effects the rate at which indivudals rejoined the labor force, \n",
    "\n",
    "we will now incorporate data on the dates when states announced (announce_ui) that PUA will expire in additon to the actual date when PUA expired (expired_ui). "
   ]
  },
  {
   "cell_type": "code",
   "execution_count": 8,
   "metadata": {},
   "outputs": [],
   "source": [
    "announce_url = \"https://raw.githubusercontent.com/vgm236/ferrante_moreira_data_project/main/Data/announced_dates_ui_expiration.csv\"\n",
    "announce_ui = pd.read_csv(announce_url)\n",
    "\n",
    "expired_url = \"https://raw.githubusercontent.com/vgm236/ferrante_moreira_data_project/main/Data/effective_dates_ui_expiration.csv\"\n",
    "expired_ui = pd.read_csv(expired_url)"
   ]
  },
  {
   "cell_type": "markdown",
   "metadata": {},
   "source": [
    "### 3. Preparing Data for Analysis \n",
    "\n",
    "Since the data for state unemployment rate and labor force participation was pulled in three groups (1976-1995, 1996-2015, 2016-2021), we will now combine to create one dataframe for unemployment and \n",
    "\n",
    "labor force participation values and one for metadata"
   ]
  },
  {
   "cell_type": "code",
   "execution_count": 9,
   "metadata": {},
   "outputs": [
    {
     "data": {
      "text/plain": [
       "array(['1976', '1977', '1978', '1979', '1980', '1981', '1982', '1983',\n",
       "       '1984', '1985', '1986', '1987', '1988', '1989', '1990', '1991',\n",
       "       '1992', '1993', '1994', '1995', '1996', '1997', '1998', '1999',\n",
       "       '2000', '2001', '2002', '2003', '2004', '2005', '2006', '2007',\n",
       "       '2008', '2009', '2010', '2011', '2012', '2013', '2014', '2015',\n",
       "       '2016', '2017', '2018', '2019', '2020', '2021'], dtype=object)"
      ]
     },
     "execution_count": 9,
     "metadata": {},
     "output_type": "execute_result"
    }
   ],
   "source": [
    "# create single dataframe for df1, df2, and df3\n",
    "df = pd.concat([df1, df2, df3])\n",
    "\n",
    "df = df.sort_values(by=[\"year\"]) \n",
    "\n",
    "df[\"year\"].unique()"
   ]
  },
  {
   "cell_type": "code",
   "execution_count": 10,
   "metadata": {},
   "outputs": [],
   "source": [
    "# create single dataframe for metadata1, metadata2, metadata3\n",
    "metadata = pd.concat([metadata1, metadata2, metadata3])"
   ]
  },
  {
   "cell_type": "markdown",
   "metadata": {},
   "source": [
    "Since the Metadata dataframe is composed of both unemployment rate and labor force participation, we will separate accordingly "
   ]
  },
  {
   "cell_type": "code",
   "execution_count": 11,
   "metadata": {},
   "outputs": [],
   "source": [
    "# Dataframe including only measure data types for unemployment rate\n",
    "df_ur = metadata.query(\"measure_data_type == 'unemployment rate'\")\n",
    "\n",
    "# Dataframe including only measure data types for labor force participation\n",
    "df_lfp = metadata.query(\"measure_data_type == 'labor force participation rate'\")"
   ]
  },
  {
   "cell_type": "markdown",
   "metadata": {},
   "source": [
    "Now that we have the dataframes seperated by unemployment rate and labor force participation, we can map values from the df \n",
    "\n",
    "dataframe to the df_ur and df_lfp dataframes using series_ids"
   ]
  },
  {
   "cell_type": "code",
   "execution_count": 12,
   "metadata": {},
   "outputs": [],
   "source": [
    "# Merge df on df_ur by series id to get each states unemployment rate\n",
    "df_ur_values = df_ur.merge(df, on=\"series_id\", how=\"left\")"
   ]
  },
  {
   "cell_type": "code",
   "execution_count": 13,
   "metadata": {},
   "outputs": [],
   "source": [
    "# Merge df on df_lfp by series id to get each states labor force participation rate\n",
    "df_lfp_values = df_lfp.merge(df, on=\"series_id\", how=\"left\")"
   ]
  },
  {
   "cell_type": "code",
   "execution_count": 14,
   "metadata": {},
   "outputs": [],
   "source": [
    "# merge unemployment announcement date and expiration date to single dataframe \n",
    "ui_dates = announce_ui.merge(expired_ui, on=\"state_abrev\", how=\"left\")\n",
    "\n",
    "# change to datetime \n",
    "ui_dates[\"effe_date\"] = pd.to_datetime(ui_dates[\"effe_date\"])\n",
    "ui_dates[\"annc_date\"] = pd.to_datetime(ui_dates[\"annc_date\"])\n",
    "\n",
    "# change state_abrev to area for future merging simplicity\n",
    "state = {\"state_abrev\" : \"area\"}\n",
    "ui_dates = ui_dates.rename(columns=state)"
   ]
  },
  {
   "cell_type": "code",
   "execution_count": 15,
   "metadata": {},
   "outputs": [],
   "source": [
    "# change \"area\" values to abbrevations to allow for merging ui_dates  \n",
    "us_state_to_abbrev = {\n",
    "    \"Alabama\": \"AL\",\n",
    "    \"Alaska\": \"AK\",\n",
    "    \"Arizona\": \"AZ\",\n",
    "    \"Arkansas\": \"AR\",\n",
    "    \"California\": \"CA\",\n",
    "    \"Colorado\": \"CO\",\n",
    "    \"Connecticut\": \"CT\",\n",
    "    \"Delaware\": \"DE\",\n",
    "    \"Florida\": \"FL\",\n",
    "    \"Georgia\": \"GA\",\n",
    "    \"Hawaii\": \"HI\",\n",
    "    \"Idaho\": \"ID\",\n",
    "    \"Illinois\": \"IL\",\n",
    "    \"Indiana\": \"IN\",\n",
    "    \"Iowa\": \"IA\",\n",
    "    \"Kansas\": \"KS\",\n",
    "    \"Kentucky\": \"KY\",\n",
    "    \"Louisiana\": \"LA\",\n",
    "    \"Maine\": \"ME\",\n",
    "    \"Maryland\": \"MD\",\n",
    "    \"Massachusetts\": \"MA\",\n",
    "    \"Michigan\": \"MI\",\n",
    "    \"Minnesota\": \"MN\",\n",
    "    \"Mississippi\": \"MS\",\n",
    "    \"Missouri\": \"MO\",\n",
    "    \"Montana\": \"MT\",\n",
    "    \"Nebraska\": \"NE\",\n",
    "    \"Nevada\": \"NV\",\n",
    "    \"New Hampshire\": \"NH\",\n",
    "    \"New Jersey\": \"NJ\",\n",
    "    \"New Mexico\": \"NM\",\n",
    "    \"New York\": \"NY\",\n",
    "    \"North Carolina\": \"NC\",\n",
    "    \"North Dakota\": \"ND\",\n",
    "    \"Ohio\": \"OH\",\n",
    "    \"Oklahoma\": \"OK\",\n",
    "    \"Oregon\": \"OR\",\n",
    "    \"Pennsylvania\": \"PA\",\n",
    "    \"Rhode Island\": \"RI\",\n",
    "    \"South Carolina\": \"SC\",\n",
    "    \"South Dakota\": \"SD\",\n",
    "    \"Tennessee\": \"TN\",\n",
    "    \"Texas\": \"TX\",\n",
    "    \"Utah\": \"UT\",\n",
    "    \"Vermont\": \"VT\",\n",
    "    \"Virginia\": \"VA\",\n",
    "    \"Washington\": \"WA\",\n",
    "    \"West Virginia\": \"WV\",\n",
    "    \"Wisconsin\": \"WI\",\n",
    "    \"Wyoming\": \"WY\"\n",
    "}\n",
    "\n",
    "df_ur_values[\"area\"] = df_ur_values[\"area\"].replace(us_state_to_abbrev)\n",
    "\n",
    "df_lfp_values[\"area\"] = df_lfp_values[\"area\"].replace(us_state_to_abbrev)"
   ]
  },
  {
   "cell_type": "code",
   "execution_count": 16,
   "metadata": {},
   "outputs": [],
   "source": [
    "# Data Preparation for analyses\n",
    "pd.options.mode.chained_assignment = None\n",
    "# Create smaller DataFrames for UR and LFP with only necessary columns\n",
    "df_ur_small = df_ur_values[[\"area\", \"year\", \"period\", \"value\"]]\n",
    "df_lfp_small = df_lfp_values[[\"area\", \"year\", \"period\", \"value\"]]\n",
    "\n",
    "# Remove the M from period to create an integer for the month, then create a new column which is the date (Year-Month-Day)\n",
    "df_ur_small[\"month\"] = df_ur_small[\"period\"].str.strip(\"M\").astype(int) \n",
    "df_ur_small[\"date\"] = pd.to_datetime(df_ur_small[[\"year\", \"month\"]].assign(DAY=1))\n",
    "\n",
    "df_lfp_small[\"month\"] = df_lfp_small[\"period\"].str.strip(\"M\").astype(int)\n",
    "df_lfp_small[\"date\"] = pd.to_datetime(df_lfp_small[[\"year\", \"month\"]].assign(DAY=1))\n",
    "\n",
    "# Re-label values in both DataFrames so it is clear which refers to UR and LFP once merged\n",
    "ur_value_name = {\"value\" : \"unemployment_rate\"}\n",
    "lfp_value_name = {\"value\" : \"labor_force_participation\"}\n",
    "\n",
    "df_ur_small = df_ur_small.rename(columns=ur_value_name)\n",
    "df_lfp_small = df_lfp_small.rename(columns=lfp_value_name)\n",
    "\n",
    "# Drop uncessary columns\n",
    "df_ur_small = df_ur_small[[\"area\", \"unemployment_rate\", \"date\"]]\n",
    "df_lfp_small = df_lfp_small[[\"area\", \"labor_force_participation\", \"date\"]]\n",
    "\n",
    "# Merge the two Dataframe on area and year\n",
    "df_ur_lfp = df_ur_small.merge(\n",
    "    df_lfp_small, how='left', \n",
    "    left_on=['area', 'date'], \n",
    "    right_on=['area', 'date']\n",
    "    ).drop_duplicates(subset=[\"area\", \"date\"])\n",
    "\n",
    "# Turn UR and LFP values to float \n",
    "df_ur_lfp[\"unemployment_rate\"] = df_ur_lfp[\"unemployment_rate\"].astype(float)\n",
    "df_ur_lfp[\"labor_force_participation\"] = df_ur_lfp[\"labor_force_participation\"].astype(float)\n",
    "\n",
    "# Reshape data for analyses\n",
    "df_ur_lfp = df_ur_lfp.pivot(\n",
    "    index=\"date\", \n",
    "    columns=\"area\", \n",
    "    values=[\"unemployment_rate\", \"labor_force_participation\"])"
   ]
  },
  {
   "cell_type": "markdown",
   "metadata": {},
   "source": [
    "### 4. Compare and Contrast State-level Unemployment Rates and Labor Force Participation for Pre, Intra, and Post COVID "
   ]
  },
  {
   "cell_type": "markdown",
   "metadata": {},
   "source": [
    "In order to compare how State's labor force participation has changed over time, we will need to construct three dataframes for three seperate periods of time. The first subset of data will be for the time \n",
    "\n",
    "period of 2015 - 2019 (denoted as pre-COVID). This pre-COVID period with relative econoimc stability will allow for a clear contrast in interpreting the impact COVID had on state-level unemplloyment rates \n",
    "\n",
    "and labor force participation. The next period will be January 1, 2020 - January 31, 2020 (denoted as Intra-COVID), and the third period will be January 1st, 2021 to present (denoted as post-COVID). "
   ]
  },
  {
   "cell_type": "code",
   "execution_count": 17,
   "metadata": {},
   "outputs": [
    {
     "data": {
      "image/png": "[encoded data removed]",
      "text/plain": [
       "<Figure size 1440x432 with 3 Axes>"
      ]
     },
     "metadata": {
      "needs_background": "light"
     },
     "output_type": "display_data"
    }
   ],
   "source": [
    "# Generate three datasets for three periods of interest (pre, intra, and post COVID)\n",
    "df_pre_covid = df_ur_lfp[\"2015-01-01\":\"2019-01-01\"]\n",
    "\n",
    "df_intra_covid = df_ur_lfp[\"2020-01-01\":\"2020-12-31\"]\n",
    "\n",
    "df_post_covid = df_ur_lfp[\"2021-01-01\":\"2021-10-31\"]\n",
    "\n",
    "\n",
    "fig, ax = plt.subplots(1, 3, figsize=(20, 6))\n",
    "\n",
    "ax[0].scatter(\n",
    "    df_pre_covid[\"labor_force_participation\"].mean(), \n",
    "    df_pre_covid[\"unemployment_rate\"].mean(), color='b', alpha=0.3)\n",
    "ax[0].set_title(\"Pre-COVID (2015-2019)\")\n",
    "ax[0].set_xlim(50, 75)\n",
    "ax[0].set_ylim(0, 13)\n",
    "ax[0].axvline(\n",
    "    np.mean(df_pre_covid[\"labor_force_participation\"].mean()), \n",
    "    color='b', ls='--', \n",
    "    lw=2.5, \n",
    "    alpha=0.2)\n",
    "ax[0].axhline(\n",
    "    np.mean(df_pre_covid[\"unemployment_rate\"].mean()), \n",
    "    color='b', ls='--', \n",
    "    lw=2.5, \n",
    "    alpha = 0.2)\n",
    "\n",
    "ax[1].scatter(\n",
    "    df_intra_covid[\"labor_force_participation\"].mean(), \n",
    "    df_intra_covid[\"unemployment_rate\"].mean(), color='b', alpha=0.5)\n",
    "ax[1].set_title(\"Intra-COVID (2020)\")\n",
    "ax[1].set_xlim(50, 75)\n",
    "ax[1].set_ylim(0, 14)\n",
    "ax[1].axvline(\n",
    "    np.mean(df_intra_covid[\"labor_force_participation\"].mean()), \n",
    "    color='b', ls='--', \n",
    "    lw=2.5, \n",
    "    alpha=0.2)\n",
    "ax[1].axhline(\n",
    "    np.mean(df_intra_covid[\"unemployment_rate\"].mean()), \n",
    "    color='b', ls='--', \n",
    "    lw=2.5, \n",
    "    alpha = 0.2)\n",
    "\n",
    "ax[2].scatter(\n",
    "    df_post_covid[\"labor_force_participation\"].mean(), \n",
    "    df_post_covid[\"unemployment_rate\"].mean(), color='b', alpha=0.75)\n",
    "ax[2].set_title(\"Post-COVID (2021-Present)\")\n",
    "ax[2].set_xlim(50, 75)\n",
    "ax[2].set_ylim(0, 13)\n",
    "ax[2].axvline(\n",
    "    np.mean(df_post_covid[\"labor_force_participation\"].mean()), \n",
    "    color='b', ls='--', \n",
    "    lw=2.5, \n",
    "    alpha=0.2)\n",
    "ax[2].axhline(\n",
    "    np.mean(df_post_covid[\"unemployment_rate\"].mean()), \n",
    "    color='b', ls='--', \n",
    "    lw=2.5, \n",
    "    alpha = 0.2)\n",
    "\n",
    "for i in [0, 1, 2]:\n",
    "    ax[i].set_ylabel(\"Unemployment Rate\")\n",
    "    ax[i].set_xlabel(\"Labor Force Participation\")\n",
    "\n",
    "for i in [0, 1, 2]:\n",
    "    ax[i].spines['right'].set_visible(False)\n",
    "    ax[i].spines['top'].set_visible(False)\n",
    "\n",
    "plt.style.use(\"seaborn\")"
   ]
  },
  {
   "cell_type": "code",
   "execution_count": 18,
   "metadata": {},
   "outputs": [
    {
     "name": "stdout",
     "output_type": "stream",
     "text": [
      "pre-COVID UR: 4.42 %\n",
      "intra-COVID UR: 7.46 %\n",
      "post-COVID UR: 5.24 %\n",
      "pre-COVID LFP: 63.53 %\n",
      "intra-COVID LFP: 62.59 %\n",
      "post-COVID LFP: 62.27 %\n"
     ]
    }
   ],
   "source": [
    "ur_titles = [\"pre-COVID UR:\", \"intra-COVID UR:\", \"post-COVID UR:\"]\n",
    "ur_sets = [df_pre_covid, df_intra_covid, df_post_covid]\n",
    "\n",
    "for (i, j) in zip(ur_titles, ur_sets):\n",
    "    print(i, np.mean(j[\"unemployment_rate\"].mean()).round(2),\"%\")\n",
    "\n",
    "lfp_titles = [\"pre-COVID LFP:\", \"intra-COVID LFP:\", \"post-COVID LFP:\"]\n",
    "lfp_sets = [df_pre_covid, df_intra_covid, df_post_covid]\n",
    "\n",
    "for (i, j) in zip(lfp_titles, lfp_sets):\n",
    "    print(i, np.mean(j[\"labor_force_participation\"].mean()).round(2),\"%\")"
   ]
  },
  {
   "cell_type": "markdown",
   "metadata": {},
   "source": [
    "The plots above display annual, state-level mean values for labor force participation and unemployment rate. Moving from left to right, we can observe the state's transitions over time, where as expected, \n",
    "the Intra-COVID period witnessed a 3.04% mean increase in unemployment rate and 0.93% mean decrease in labor force participation. More interestingly, the movement from intra-COVID to post-COVID reveals\n",
    "that unemployment rate fell by 2.22% and labor force participation decreased by 0.32%. While a marginal portion of the decrease in unemployment can be explained by those leaving the labor force, the \n",
    "phenomenon to focus on is the notion that indivduals during this period continued to leave the labor force amidst improving COVID conditions. Additionally, you can see that in in the pre-COVID era, states\n",
    "were in a relatively tight cluster, however, as time progresses we notice that the dispersion of the points increases, where now it is now more common for states to have varying levels of unemployment and \n",
    "labor force participation."
   ]
  },
  {
   "cell_type": "markdown",
   "metadata": {},
   "source": [
    "For curiosity, lets see if there are any obvious regional differences in unemployment rate and labor force participation over the three periods."
   ]
  },
  {
   "cell_type": "code",
   "execution_count": 19,
   "metadata": {},
   "outputs": [
    {
     "ename": "NameError",
     "evalue": "name 'south_ur' is not defined",
     "output_type": "error",
     "traceback": [
      "\u001b[1;31m---------------------------------------------------------------------------\u001b[0m",
      "\u001b[1;31mNameError\u001b[0m                                 Traceback (most recent call last)",
      "\u001b[1;32m~\\AppData\\Local\\Temp/ipykernel_33360/805282770.py\u001b[0m in \u001b[0;36m<module>\u001b[1;34m\u001b[0m\n\u001b[0;32m     62\u001b[0m \u001b[0mwest_lfp\u001b[0m \u001b[1;33m=\u001b[0m \u001b[1;33m[\u001b[0m\u001b[0mpre_west_lfp\u001b[0m\u001b[1;33m,\u001b[0m \u001b[0mintra_west_lfp\u001b[0m\u001b[1;33m,\u001b[0m \u001b[0mpost_west_lfp\u001b[0m\u001b[1;33m]\u001b[0m\u001b[1;33m\u001b[0m\u001b[1;33m\u001b[0m\u001b[0m\n\u001b[0;32m     63\u001b[0m \u001b[1;33m\u001b[0m\u001b[0m\n\u001b[1;32m---> 64\u001b[1;33m \u001b[1;32mfor\u001b[0m \u001b[1;33m(\u001b[0m\u001b[0mj\u001b[0m\u001b[1;33m,\u001b[0m \u001b[0mi\u001b[0m\u001b[1;33m)\u001b[0m \u001b[1;32min\u001b[0m \u001b[0mzip\u001b[0m\u001b[1;33m(\u001b[0m\u001b[0msouth_ur\u001b[0m\u001b[1;33m,\u001b[0m \u001b[0msouth_lfp\u001b[0m\u001b[1;33m)\u001b[0m\u001b[1;33m:\u001b[0m\u001b[1;33m\u001b[0m\u001b[1;33m\u001b[0m\u001b[0m\n\u001b[0m\u001b[0;32m     65\u001b[0m     ax[0].scatter(\n\u001b[0;32m     66\u001b[0m         \u001b[0mi\u001b[0m\u001b[1;33m.\u001b[0m\u001b[0mmean\u001b[0m\u001b[1;33m(\u001b[0m\u001b[1;33m)\u001b[0m\u001b[1;33m,\u001b[0m\u001b[1;33m\u001b[0m\u001b[1;33m\u001b[0m\u001b[0m\n",
      "\u001b[1;31mNameError\u001b[0m: name 'south_ur' is not defined"
     ]
    },
    {
     "data": {
      "image/png": "[encoded data removed]",
      "text/plain": [
       "<Figure size 1440x432 with 4 Axes>"
      ]
     },
     "metadata": {},
     "output_type": "display_data"
    }
   ],
   "source": [
    "# Pre, intra, and post COVID unemployment rate and labor force participation for Western U.S\n",
    "pre_west_ur = df_pre_covid[\"unemployment_rate\"][[\"WA\", \"OR\", \"CA\", \"ID\", \"MT\", \"WY\", \n",
    "                                                 \"NV\", \"UT\", \"CO\", \"AZ\", \"NM\"]]\n",
    "pre_west_lfp = df_pre_covid[\"labor_force_participation\"][[\"WA\", \"OR\", \"CA\", \"ID\", \"MT\", \"WY\", \n",
    "                                                         \"NV\", \"UT\", \"CO\", \"AZ\", \"NM\"]]\n",
    "intra_west_ur = df_intra_covid[\"unemployment_rate\"][[\"WA\", \"OR\", \"CA\", \"ID\", \"MT\", \"WY\", \n",
    "                                                 \"NV\", \"UT\", \"CO\", \"AZ\", \"NM\"]]\n",
    "intra_west_lfp = df_intra_covid[\"labor_force_participation\"][[\"WA\", \"OR\", \"CA\", \"ID\", \"MT\", \"WY\", \n",
    "                                                         \"NV\", \"UT\", \"CO\", \"AZ\", \"NM\"]]\n",
    "post_west_ur = df_post_covid[\"unemployment_rate\"][[\"WA\", \"OR\", \"CA\", \"ID\", \"MT\", \"WY\", \n",
    "                                                 \"NV\", \"UT\", \"CO\", \"AZ\", \"NM\"]]\n",
    "post_west_lfp = df_post_covid[\"labor_force_participation\"][[\"WA\", \"OR\", \"CA\", \"ID\", \"MT\", \"WY\", \n",
    "                                                         \"NV\", \"UT\", \"CO\", \"AZ\", \"NM\"]]\n",
    "\n",
    "# Pre, intra, and post COVID unemployment rate and labor force participation for Mid-Western U.S\n",
    "pre_mid_ur = df_pre_covid[\"unemployment_rate\"][[\"SD\", \"NE\", \"KS\", \"MN\", \"IA\", \n",
    "                                                \"MO\", \"WI\", \"IL\", \"MI\", \"IN\", \"OH\"]]\n",
    "pre_mid_lfp = df_pre_covid[\"labor_force_participation\"][[\"SD\", \"NE\", \"KS\", \"MN\", \"IA\", \n",
    "                                                        \"MO\", \"WI\", \"IL\", \"MI\", \"IN\", \"OH\"]]\n",
    "intra_mid_ur = df_intra_covid[\"unemployment_rate\"][[\"SD\", \"NE\", \"KS\", \"MN\", \"IA\", \n",
    "                                                \"MO\", \"WI\", \"IL\", \"MI\", \"IN\", \"OH\"]]\n",
    "intra_mid_lfp = df_intra_covid[\"labor_force_participation\"][[\"SD\", \"NE\", \"KS\", \"MN\", \"IA\", \n",
    "                                                        \"MO\", \"WI\", \"IL\", \"MI\", \"IN\", \"OH\"]]\n",
    "post_mid_ur = df_post_covid[\"unemployment_rate\"][[\"SD\", \"NE\", \"KS\", \"MN\", \"IA\", \n",
    "                                                \"MO\", \"WI\", \"IL\", \"MI\", \"IN\", \"OH\"]]\n",
    "post_mid_lfp = df_post_covid[\"labor_force_participation\"][[\"SD\", \"NE\", \"KS\", \"MN\", \"IA\", \n",
    "                                                        \"MO\", \"WI\", \"IL\", \"MI\", \"IN\", \"OH\"]]\n",
    "\n",
    "# Pre, intra, and post COVID unemployment rate and labor force participation for Northern U.S\n",
    "pre_north_ur = df_pre_covid[\"unemployment_rate\"][[\"PA\", \"NY\", \"NJ\", \"CT\", \n",
    "                                                  \"MA\", \"RI\", \"NH\", \"VT\", \"ME\"]]\n",
    "pre_north_lfp = df_pre_covid[\"labor_force_participation\"][[\"PA\", \"NY\", \"NJ\", \"CT\", \n",
    "                                                           \"MA\", \"RI\", \"NH\", \"VT\", \"ME\"]]\n",
    "intra_north_ur = df_intra_covid[\"unemployment_rate\"][[\"PA\", \"NY\", \"NJ\", \"CT\", \n",
    "                                                  \"MA\", \"RI\", \"NH\", \"VT\", \"ME\"]]\n",
    "intra_north_lfp = df_intra_covid[\"labor_force_participation\"][[\"PA\", \"NY\", \"NJ\", \"CT\", \n",
    "                                                           \"MA\", \"RI\", \"NH\", \"VT\", \"ME\"]]\n",
    "post_north_ur = df_post_covid[\"unemployment_rate\"][[\"PA\", \"NY\", \"NJ\", \"CT\", \n",
    "                                                  \"MA\", \"RI\", \"NH\", \"VT\", \"ME\"]]\n",
    "post_north_lfp = df_post_covid[\"labor_force_participation\"][[\"PA\", \"NY\", \"NJ\", \"CT\", \n",
    "                                                           \"MA\", \"RI\", \"NH\", \"VT\", \"ME\"]]\n",
    "\n",
    "# Pre, intra, and post COVID unemployment rate and labor force participation for Southern U.S\n",
    "pre_south_ur = df_pre_covid[\"unemployment_rate\"][[\"TX\", \"OK\", \"AR\", \"LA\", \"MS\", \"AL\", \"TN\", \"KY\", \n",
    "                                                  \"WV\", \"VA\", \"DE\", \"MD\", \"NC\", \"SC\", \"GA\", \"FL\"]]\n",
    "pre_south_lfp = df_pre_covid[\"labor_force_participation\"][[\"TX\", \"OK\", \"AR\", \"LA\", \"MS\", \"AL\", \"TN\", \"KY\", \n",
    "                                                           \"WV\", \"VA\", \"DE\", \"MD\", \"NC\", \"SC\", \"GA\", \"FL\"]]\n",
    "intra_south_ur = df_intra_covid[\"unemployment_rate\"][[\"TX\", \"OK\", \"AR\", \"LA\", \"MS\", \"AL\", \"TN\", \"KY\", \n",
    "                                                  \"WV\", \"VA\", \"DE\", \"MD\", \"NC\", \"SC\", \"GA\", \"FL\"]]\n",
    "intra_south_lfp = df_intra_covid[\"labor_force_participation\"][[\"TX\", \"OK\", \"AR\", \"LA\", \"MS\", \"AL\", \"TN\", \"KY\", \n",
    "                                                           \"WV\", \"VA\", \"DE\", \"MD\", \"NC\", \"SC\", \"GA\", \"FL\"]]\n",
    "post_south_ur = df_post_covid[\"unemployment_rate\"][[\"TX\", \"OK\", \"AR\", \"LA\", \"MS\", \"AL\", \"TN\", \"KY\", \n",
    "                                                  \"WV\", \"VA\", \"DE\", \"MD\", \"NC\", \"SC\", \"GA\", \"FL\"]]\n",
    "post_south_lfp = df_post_covid[\"labor_force_participation\"][[\"TX\", \"OK\", \"AR\", \"LA\", \"MS\", \"AL\", \"TN\", \"KY\", \n",
    "                                                           \"WV\", \"VA\", \"DE\", \"MD\", \"NC\", \"SC\", \"GA\", \"FL\"]]\n",
    "\n",
    "\n",
    "# Scatter plots showing transitions through pre, intra, and post COVID by region \n",
    "fig, ax = plt.subplots(1,4, figsize=(20,6))\n",
    "\n",
    "west_ur = [pre_west_ur, intra_west_ur, post_west_ur]\n",
    "west_lfp = [pre_west_lfp, intra_west_lfp, post_west_lfp]\n",
    "\n",
    "for (j, i) in zip(south_ur, south_lfp):\n",
    "    ax[0].scatter(\n",
    "        i.mean(),\n",
    "        j.mean(),\n",
    "        color='b',\n",
    "        alpha=[0.25, 0.5, 0.75])\n",
    "\n",
    "mid_ur = [pre_mid_ur, intra_mid_ur, post_mid_ur]\n",
    "mid_lfp = [pre_mid_lfp, intra_mid_lfp, post_mid_lfp]\n",
    "\n",
    "for (j, i) in zip(mid_ur, mid_lfp):\n",
    "    ax[1].scatter(\n",
    "        i.mean(),\n",
    "        j.mean(),\n",
    "        color='b',\n",
    "        alpha=[0.1, 0.4, 0.9]\n",
    "    )\n",
    "\n",
    "south_ur = [pre_south_ur, intra_south_ur, post_south_ur]\n",
    "south_lfp = [pre_south_lfp, intra_south_lfp, post_south_lfp]\n",
    "\n",
    "for (j, i) in zip(south_ur, south_lfp):\n",
    "    ax[2].scatter(\n",
    "        i.mean(),\n",
    "        j.mean(),\n",
    "        color='b',\n",
    "        alpha=[0.1, 0.4, 0.9]\n",
    "    )\n",
    "\n",
    "north_ur = [pre_north_ur, intra_north_ur, post_north_ur]\n",
    "north_lfp = [pre_north_lfp, intra_north_lfp, post_north_lfp]\n",
    "\n",
    "for (j, i) in zip(north_ur, north_lfp):\n",
    "    ax[3].scatter(\n",
    "        i.mean(),\n",
    "        j.mean(),\n",
    "        color='b',\n",
    "        alpha=[0.1, 0.4, 0.9]\n",
    "    )\n",
    "\n",
    "for i in [0, 1, 2, 3]:\n",
    "    ax[i].set_xlim(50, 75),\n",
    "    ax[i].set_ylim(0, 13)\n",
    "\n",
    "region_titles = [\"West\", \"Mid-West\", \"South\", \"North\"]\n",
    "count = [0, 1, 2, 3]\n",
    "\n",
    "for (i, j) in zip(count, region_titles):\n",
    "    ax[i].set_title(j)\n",
    "\n",
    "for i in [0, 1, 2, 3]:\n",
    "    ax[i].set_ylabel(\"Unemployment Rate\")\n",
    "    ax[i].set_xlabel(\"Labor Force Participation\")\n",
    "\n",
    "for i in [0, 1, 2, 3]:\n",
    "    ax[i].spines['right'].set_visible(False)\n",
    "    ax[i].spines['top'].set_visible(False)\n",
    "\n",
    "plt.style.use(\"seaborn\")"
   ]
  },
  {
   "cell_type": "markdown",
   "metadata": {},
   "source": [
    "The plots above take a look at the regional breakdowns of unemployment rate and labor force participation for the periods of pre, intra, and post COVID. The darkest dots represent the most recent period (post-COVID), where we can see that they generally shifted leftward, demonstrating that all geographic regions of the U.S face decreases in labor force participation. "
   ]
  },
  {
   "cell_type": "code",
   "execution_count": 20,
   "metadata": {},
   "outputs": [
    {
     "name": "stderr",
     "output_type": "stream",
     "text": [
      "C:\\Users\\alexa\\AppData\\Local\\Temp/ipykernel_33360/2927253453.py:27: MatplotlibDeprecationWarning: Auto-removal of grids by pcolor() and pcolormesh() is deprecated since 3.5 and will be removed two minor releases later; please call grid(False) first.\n",
      "  cbar = fig.colorbar(bar_info)\n"
     ]
    },
    {
     "data": {
      "text/plain": [
       "(-14205996.319552857, -7131248.786754098, 2620945.8783998117, 6483447.28674047)"
      ]
     },
     "execution_count": 20,
     "metadata": {},
     "output_type": "execute_result"
    },
    {
     "data": {
      "image/png": "[encoded data removed]",
      "text/plain": [
       "<Figure size 1440x864 with 2 Axes>"
      ]
     },
     "metadata": {},
     "output_type": "display_data"
    }
   ],
   "source": [
    "import geopandas as gp\n",
    "import geoplot as gplt\n",
    "from ipywidgets import interact, FloatSlider\n",
    "\n",
    "# read in states shape file \n",
    "states_url = \"https://github.com/vgm236/ferrante_moreira_data_project/blob/main/Data/data/usa-states-census-2014.shp?raw=true\"  # need to ask how to get this to work \n",
    "states = gp.read_file(r'C:\\Users\\alexa\\CSS_Data Skills_Fall 2021\\ferrante_moreira_data_project\\Data\\data\\usa-states-census-2014.shp')\n",
    "\n",
    "#set to be aligned with google maps\n",
    "states = states.to_crs(\"EPSG:3395\")\n",
    "\n",
    "# rename states to area for mergeing\n",
    "states = states.rename(columns={\"NAME\":\"area\"})\n",
    "\n",
    "states[\"area\"] = states[\"area\"].replace(us_state_to_abbrev)\n",
    "\n",
    "ex1 = df_lfp_small.query(\"date == '2020-01-01'\").drop_duplicates(subset=[\"area\"])\n",
    "\n",
    "states_full = states.merge(ex1, on=\"area\", how=\"left\").dropna()\n",
    "states_full[\"labor_force_participation\"] = states_full[\"labor_force_participation\"].astype(float)\n",
    "\n",
    "fig, ax = plt.subplots(1, 1, figsize=(20, 12))\n",
    "\n",
    "states_full.plot(column=\"labor_force_participation\", cmap=\"Blues\", linewidth=0.4, ax=ax, edgecolor=\".4\")\n",
    "bar_info = plt.cm.ScalarMappable(cmap=\"Blues\", norm=plt.Normalize(vmin=40, vmax=70))\n",
    "bar_info._A = []\n",
    "cbar = fig.colorbar(bar_info)\n",
    "\n",
    "ax.set_title(\"U.S Labor Force Participation\", \n",
    "    fontdict={\"fontsize\":\"25\", \"fontweight\": \"3\"})\n",
    "ax.annotate(\"Source: Bureau of Labor Statistics, 2021\",xy=(0.1, .08),  \n",
    "    xycoords=\"figure fraction\", horizontalalignment=\"left\", \n",
    "    verticalalignment=\"top\", fontsize=12, color=\"#555555\")\n",
    "\n",
    "ax.axis(\"off\")"
   ]
  },
  {
   "cell_type": "code",
   "execution_count": null,
   "metadata": {},
   "outputs": [],
   "source": [
    "import geopandas as gp\n",
    "import geoplot as gplt\n",
    "from ipywidgets import interact, FloatSlider\n",
    "\n",
    "# read in states shape file \n",
    "states_url = \"https://github.com/vgm236/ferrante_moreira_data_project/blob/main/Data/data/usa-states-census-2014.shp?raw=true\"  \n",
    "states = gp.read_file(r'C:\\Users\\alexa\\CSS_Data Skills_Fall 2021\\ferrante_moreira_data_project\\Data\\data\\usa-states-census-2014.shp')\n",
    "\n",
    "#set to be aligned with google maps\n",
    "states = states.to_crs(\"EPSG:3395\")\n",
    "\n",
    "# rename states to area for mergeing\n",
    "states = states.rename(columns={\"NAME\":\"area\"})\n",
    "\n",
    "states[\"area\"] = states[\"area\"].replace(us_state_to_abbrev)\n",
    "\n",
    "ex1 = df_lfp_small.query(\"date >= '2015-01-01'\")\n",
    "\n",
    "states_full = states.merge(ex1, on=\"area\", how=\"left\").dropna()\n",
    "states_full[\"labor_force_participation\"] = states_full[\"labor_force_participation\"].astype(float)\n",
    "\n",
    "ax.axis(\"off\")\n",
    "\n",
    "def states_plot(data):\n",
    "    data = states_full\n",
    "\n",
    "    fig, ax = plt.subplots(1, 1, figsize=(20, 12))\n",
    "\n",
    "    states_full.plot(column=\"labor_force_participation\", cmap=\"Blues\", linewidth=0.4, ax=ax, edgecolor=\".4\")\n",
    "    bar_info = plt.cm.ScalarMappable(cmap=\"Blues\", norm=plt.Normalize(vmin=40, vmax=70))\n",
    "    bar_info._A = []\n",
    "    cbar = fig.colorbar(bar_info)\n",
    "\n",
    "    ax.set_title(\"U.S Labor Force Participation\", \n",
    "    fontdict={\"fontsize\":\"25\", \"fontweight\": \"3\"})\n",
    "    \n",
    "    ax.annotate(\"Source: Bureau of Labor Statistics, 2021\",xy=(0.1, .08),  \n",
    "    xycoords=\"figure fraction\", horizontalalignment=\"left\", \n",
    "    verticalalignment=\"top\", fontsize=12, color=\"#555555\")\n",
    "\n",
    "    ax.axis(\"off\")\n",
    "\n",
    "    return None\n",
    "\n",
    "slide = FloatSlider(\n",
    "    value=1976, min=1976, max=2021,\n",
    "    step=1, description=\"Year\",\n",
    "    style={\"description_width\": \"50%\"},\n",
    "    layout={\"width\": \"40%\"}\n",
    ")\n",
    "ouput = interact(states_plot, data=states_full[\"date\"])\n"
   ]
  },
  {
   "cell_type": "code",
   "execution_count": null,
   "metadata": {},
   "outputs": [],
   "source": [
    "df_long = df_ur_lfp.stack().reset_index()"
   ]
  },
  {
   "cell_type": "code",
   "execution_count": 21,
   "metadata": {},
   "outputs": [],
   "source": [
    "import plotly.express as px"
   ]
  },
  {
   "cell_type": "code",
   "execution_count": null,
   "metadata": {},
   "outputs": [],
   "source": [
    "df_long.head()"
   ]
  },
  {
   "cell_type": "code",
   "execution_count": null,
   "metadata": {},
   "outputs": [],
   "source": [
    "ex =  px.data.gapminder()"
   ]
  },
  {
   "cell_type": "code",
   "execution_count": null,
   "metadata": {},
   "outputs": [],
   "source": [
    "ex.head()"
   ]
  },
  {
   "cell_type": "code",
   "execution_count": null,
   "metadata": {},
   "outputs": [],
   "source": [
    "px.choropleth(\n",
    "    df_long.query(\"date >= '2015-01-01'\").assign(date_str=lambda x: x[\"date\"].astype(str)),\n",
    "    locations=\"area\", \n",
    "    locationmode=\"USA-states\", \n",
    "    color=\"unemployment_rate\",\n",
    "    scope=\"usa\",\n",
    "    animation_frame=\"date_str\",\n",
    ")"
   ]
  },
  {
   "cell_type": "markdown",
   "metadata": {},
   "source": [
    "### 5. Comparing COVID Unemployment Rate and Labor Force Participation To Previous Recessions"
   ]
  },
  {
   "cell_type": "markdown",
   "metadata": {},
   "source": [
    "Another method for distingushing just how sever COVID's impact was on U.S unemployment rate and labor force participation, let's compare relative to previous economic recessions. "
   ]
  },
  {
   "cell_type": "code",
   "execution_count": null,
   "metadata": {},
   "outputs": [],
   "source": [
    "# Build subsets for each recession\n",
    "\n",
    "# Q2 1979 - Q3 1980\n",
    "recession_79 = df_ur_lfp.query(\"date >= '1979-01-01'\"\n",
    "    ).query(\"date <= '1980-07-01'\")\n",
    "\n",
    "# Q2 1981 - Q3 1982\n",
    "recession_81 = df_ur_lfp.query(\"date >= '1981-04-01'\"\n",
    "    ).query(\"date <= '1982-07-01'\")\n",
    "\n",
    "# Q4 1989 - Q2 1991\n",
    "recession_89 = df_ur_lfp.query(\"date >= '1989-10-01'\"\n",
    "    ).query(\"date <= '1991-04-01'\")\n",
    "\n",
    "# Q1 2001 - Q4 2001 \n",
    "recession_01 = df_ur_lfp.query(\"date >= '2001-01-01'\"\n",
    "    ).query(\"date <= '2001-10-01'\")\n",
    "\n",
    "# Q4 2007 - Q1 2009\n",
    "recession_07 = df_ur_lfp.query(\"date >= '2007-10-01'\"\n",
    "    ).query(\"date <= '2009-01-01'\")\n",
    "\n",
    "#Q1 2020 - Q3 2020\n",
    "recession_covid = df_ur_lfp.query(\"date >= '2020-01-01'\"\n",
    "    ).query(\"date <= '2020-07-01'\")"
   ]
  },
  {
   "cell_type": "code",
   "execution_count": null,
   "metadata": {},
   "outputs": [],
   "source": [
    "# Build charts to show variation in historical recession UP and LFP\n",
    "\n",
    "#recession_79[\"labor_force_participation\"].mean(axis=1).plot()\n",
    "\n",
    "rec_81 = recession_81[\"labor_force_participation\"].mean(axis=1)\n",
    "rec_81.plot()\n"
   ]
  },
  {
   "cell_type": "code",
   "execution_count": null,
   "metadata": {},
   "outputs": [],
   "source": [
    "# possible approach could be to find the pct change in each of the recessions and then calculate the amount of\n",
    "# months it took to return to pre-recessions levels of LFP\n",
    "\n"
   ]
  },
  {
   "cell_type": "markdown",
   "metadata": {},
   "source": [
    "### 6. Unemployment Expriation Annoncements and Impacts on States Labor Force Participation Rate"
   ]
  },
  {
   "cell_type": "code",
   "execution_count": null,
   "metadata": {},
   "outputs": [],
   "source": [
    "ui_dates"
   ]
  },
  {
   "cell_type": "markdown",
   "metadata": {},
   "source": [
    "### References"
   ]
  }
 ],
 "metadata": {
  "kernelspec": {
   "display_name": "geo",
   "language": "python",
   "name": "geo"
  },
  "language_info": {
   "codemirror_mode": {
    "name": "ipython",
    "version": 3
   },
   "file_extension": ".py",
   "mimetype": "text/x-python",
   "name": "python",
   "nbconvert_exporter": "python",
   "pygments_lexer": "ipython3",
   "version": "3.8.5"
  }
 },
 "nbformat": 4,
 "nbformat_minor": 5
}
