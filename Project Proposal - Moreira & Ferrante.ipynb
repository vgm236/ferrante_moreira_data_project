{
 "cells": [
  {
   "cell_type": "markdown",
   "id": "18199137-812e-4b7b-80e8-c74a370eda7e",
   "metadata": {
    "jp-MarkdownHeadingCollapsed": true,
    "tags": []
   },
   "source": [
    "<em> Alex Ferrante & Vinicius Moreira </em>\n",
    "\n",
    "<em> CSS – Data Skills </em>\n",
    "\n",
    "<em> 11/16/2021 </em>"
   ]
  },
  {
   "cell_type": "markdown",
   "id": "72986d52-0fbd-4174-a583-db417ca7fcf7",
   "metadata": {},
   "source": [
    "### Project Proposal: Labor force participation in times of COVID-19 ###"
   ]
  },
  {
   "cell_type": "markdown",
   "id": "f9235c0e-3c0b-4ecc-9e24-6dd0c1dd7feb",
   "metadata": {},
   "source": [
    "The current labor supply shortage has direct ties to the COVID-19 pandemic, where since March 2020, millions of Americans have exited the labor force (St. Louis FED, 2021). In an effort to further investigate the severity in which COVID effected labor force participation, our project will compare labor force participation rates at the state-level during periods denoted as pre-COVID, intra-COVID, and post-COVID. Breaking the study into these three distinct time periods, it will be possible to interpret the direct effects COVID had on labor force participation, while additionally estimating the effects unemployment subsidies had and whether they stimulated potential workers to remain out of the labor force.\n",
    "\n",
    "However, the time period that is selected for pre-COVID analyses is marked by relatively stable economic activity, allowing for a clear contrast between the intra-COVID period. The main emphasis in these analyses will be placed on understanding how state unemployment benefits affected workers employment transitions and whether there are any detectable, intemporal effects particularly in the month when states terminated supplemental benefits. An initial approach will be to group states based on the month when benefits were discontinued and compare to states where the termination month was different, or states where benefits have continued. An additional method would be difference-in-difference testing, where in order to get isolated effects of unemployment benefits, we can compare states with relatively similar labor force composition and contrast with counterfactual states where benefits did not exist. \n",
    "\t\n",
    "Finally, we also want to detect if the changes and the end of the direct cash transfers by the Federal Government had an effect on the same variables. We will also revisit previous crises to see how the participation evolved in these periods. In the same vein, our goal is to see if similar fiscal responses during previous recessions had any similar effects than the ones potentially seen during COVID-19. This will allow us to stress-test our analysis to check the potential results of fiscal transfers on labor market. \n",
    "\n",
    "The majority of the data used for this project will be pulled from the Bureau of Labor Statistics (BLS). Through the BLS API we will be able to obtain state-level, monthly data on labor force participation, employment, and unemployment. We will additionally be able to pull historical data based on the parameters we specific for the pre-COVID period. The data related to state unemployment benefits will come from the Department of Labor. \n",
    "\t\n",
    "One set of figures which will be visually interesting to produce is a heat map displaying state labor force participation for each period of study (pre, intra, and post COVID). By creating one figure for each period, it will be possible to visually interpret any geographic trends. An additional figure that can be created from these analyses is a line graph which plots labor force participation rates between states where supplemental benefits were discontinued in month (x) and states where benefits were discontinued in month (y). \n"
   ]
  },
  {
   "cell_type": "markdown",
   "id": "623c776a-af40-4c94-8dc7-b0013f5bea64",
   "metadata": {},
   "source": [
    "**Data sources:**\n",
    "\n",
    "BLS API: https://www.bls.gov/developers/api_signature_v2.htm\n",
    "Department of Labor: https://www.dol.gov/ui/data.pdf"
   ]
  }
 ],
 "metadata": {
  "kernelspec": {
   "display_name": "Python 3 (ipykernel)",
   "language": "python",
   "name": "python3"
  },
  "language_info": {
   "codemirror_mode": {
    "name": "ipython",
    "version": 3
   },
   "file_extension": ".py",
   "mimetype": "text/x-python",
   "name": "python",
   "nbconvert_exporter": "python",
   "pygments_lexer": "ipython3",
   "version": "3.9.7"
  }
 },
 "nbformat": 4,
 "nbformat_minor": 5
}
